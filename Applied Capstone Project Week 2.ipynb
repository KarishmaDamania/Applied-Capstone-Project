{
 "cells": [
  {
   "cell_type": "markdown",
   "metadata": {},
   "source": [
    "<h1><b>Introduction</b></h1>"
   ]
  },
  {
   "cell_type": "markdown",
   "metadata": {},
   "source": [
    "Road Safety and Accidents have been on the rise over the past few years and is becoming one of the leading causes of injury and death. Road Accidents can be minor, serious and even fatal in many cases and hence there is an increasing need to understand the risk factors that are associated with these accidents so that we can reduce this number as well as the severity of the accidents. <i>For this project, the main aim is to build a model that can predict the severity of the accidents in the different junctions and address blocks by analysing their association with factors such as the surrounding lighting and weather conditions.</i>\n",
    "\n",
    "This analysis will be useful not only to concerned authorities such as the Police and Road & Transport Authority (RTA) but also to the general public as it will create an awareness of the factors that they need to take into consideration while driving to ensure their own as well as the safety of others."
   ]
  },
  {
   "cell_type": "markdown",
   "metadata": {},
   "source": [
    "<b><h1>Data</h1></b>"
   ]
  },
  {
   "cell_type": "markdown",
   "metadata": {},
   "source": [
    "The dataset being used has been provided by Coursera and can be accessed from the following link https://s3.us.cloud-object-storage.appdomain.cloud/cf-courses-data/CognitiveClass/DP0701EN/version-2/Data-Collisions.csv.\n",
    "\n",
    "The data pertains to the road traffic accidents in the city of Seattle within the time frame of 16 years (2004-2020). The initial dataset contains 38 different attributes and information on 194673 accidents. Since the focus of our study is analysing accidents around junctions & address blocks and how these are influenced by lighting and weather, we will be using the following features:\n",
    "<br>\n",
    "<br>\n",
    "<li> <b> SEVERITYCODE: </b> A code that corresponds to the severity of the\n",
    "collision: \n",
    "<ul>\n",
    "<li> 3 - Fatality</li>\n",
    "<li> 2b - Serious Injury</li>\n",
    "<li>2 - Injury</li>\n",
    "<li>1 - Prop damage</li>\n",
    "<li>0 - Unknown </li>\n",
    "</ul>\n",
    "</li>\n",
    "<br>\n",
    "<li> <b> ADDRTYPE: </b> Collision address type:\n",
    "<ul>\n",
    "    <li>Alley</li>\n",
    "    <li>Block</li>\n",
    "    <li>Intersection</li>\n",
    "</ul>\n",
    "</li>\n",
    "<br>\n",
    "<li> <b> JUNCTIONTYPE:</b> Category of junction at which collision took\n",
    "place \n",
    "</li>\n",
    "<br>\n",
    "<li> <b> SDOT_COLDESC:</b> A description that corresponds to the state’s\n",
    "coding designation.  </li>\n",
    "<br>\n",
    "<li> <b> WEATHER:</b> A description of the weather conditions during\n",
    "the time of the collision.  </li>\n",
    "<br>\n",
    "<li> <b> LIGHTCOND: </b>The light conditions during the collision. \n",
    " </li>\n",
    "<br>\n",
    "<li> <b> ROADCOND:</b> The condition of the road during the collision. \n",
    "</li>"
   ]
  },
  {
   "cell_type": "markdown",
   "metadata": {},
   "source": [
    "The data will be cleaned and preprocessed to retain only the necessary features in the dataset. Missing data information will either be substituted using valid means or dropped – considering the amount of missing data and the description of individual elements.\n",
    "\n",
    "We will aim the find the relation between these features and build an appropriate machine learning model to be able to classify the accidents and make predictions so that they can be prevented."
   ]
  }
 ],
 "metadata": {
  "kernelspec": {
   "display_name": "Python 3",
   "language": "python",
   "name": "python3"
  },
  "language_info": {
   "codemirror_mode": {
    "name": "ipython",
    "version": 3
   },
   "file_extension": ".py",
   "mimetype": "text/x-python",
   "name": "python",
   "nbconvert_exporter": "python",
   "pygments_lexer": "ipython3",
   "version": "3.7.7"
  }
 },
 "nbformat": 4,
 "nbformat_minor": 4
}
